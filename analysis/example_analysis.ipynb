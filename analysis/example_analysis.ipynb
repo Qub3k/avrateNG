{
 "cells": [
  {
   "cell_type": "markdown",
   "metadata": {},
   "source": [
    "# Analysis of collected ratings\n",
    "to demonstrate the usage of the output format we use ratings from \n",
    "https://www.its.bldrdoc.gov/vqeg/projects/hdtv/hdtv.aspx\n",
    "these ratings were not obtaines using AVRateNG, we converted the provided ratings for vqeghd1 test of the xls file to the avrateNG output format.\n",
    "Because of this, the timestamps and playout ordering are not realistic and in this case generated or constant.\n",
    "\n",
    "The `csv` file was generated using the `convert_ratings_to_csv.py`, its also possible to use the sqlite3 database directly, however using csv files is a better exchange format.\n"
   ]
  },
  {
   "cell_type": "code",
   "execution_count": 6,
   "metadata": {},
   "outputs": [
    {
     "data": {
      "text/html": [
       "<div>\n",
       "<style scoped>\n",
       "    .dataframe tbody tr th:only-of-type {\n",
       "        vertical-align: middle;\n",
       "    }\n",
       "\n",
       "    .dataframe tbody tr th {\n",
       "        vertical-align: top;\n",
       "    }\n",
       "\n",
       "    .dataframe thead th {\n",
       "        text-align: right;\n",
       "    }\n",
       "</style>\n",
       "<table border=\"1\" class=\"dataframe\">\n",
       "  <thead>\n",
       "    <tr style=\"text-align: right;\">\n",
       "      <th></th>\n",
       "      <th>rating</th>\n",
       "      <th>rating_type</th>\n",
       "      <th>timestamp</th>\n",
       "      <th>user_ID</th>\n",
       "      <th>video_ID</th>\n",
       "      <th>video_name</th>\n",
       "    </tr>\n",
       "  </thead>\n",
       "  <tbody>\n",
       "    <tr>\n",
       "      <th>0</th>\n",
       "      <td>5</td>\n",
       "      <td>radio</td>\n",
       "      <td>none</td>\n",
       "      <td>1</td>\n",
       "      <td>0</td>\n",
       "      <td>['vqeghd1_src01_hrc00.v1.avi']</td>\n",
       "    </tr>\n",
       "    <tr>\n",
       "      <th>1</th>\n",
       "      <td>4</td>\n",
       "      <td>radio</td>\n",
       "      <td>none</td>\n",
       "      <td>1</td>\n",
       "      <td>0</td>\n",
       "      <td>['vqeghd1_src03_hrc01.v1.avi']</td>\n",
       "    </tr>\n",
       "    <tr>\n",
       "      <th>2</th>\n",
       "      <td>3</td>\n",
       "      <td>radio</td>\n",
       "      <td>none</td>\n",
       "      <td>1</td>\n",
       "      <td>0</td>\n",
       "      <td>['vqeghd1_src06_hrc11.v1.avi']</td>\n",
       "    </tr>\n",
       "    <tr>\n",
       "      <th>3</th>\n",
       "      <td>2</td>\n",
       "      <td>radio</td>\n",
       "      <td>none</td>\n",
       "      <td>1</td>\n",
       "      <td>0</td>\n",
       "      <td>['vqeghd1_src09_hrc15.v1.avi']</td>\n",
       "    </tr>\n",
       "    <tr>\n",
       "      <th>4</th>\n",
       "      <td>5</td>\n",
       "      <td>radio</td>\n",
       "      <td>none</td>\n",
       "      <td>1</td>\n",
       "      <td>0</td>\n",
       "      <td>['vqeghd1_src14_hrc00.avi']</td>\n",
       "    </tr>\n",
       "  </tbody>\n",
       "</table>\n",
       "</div>"
      ],
      "text/plain": [
       "   rating rating_type timestamp  user_ID  video_ID  \\\n",
       "0       5       radio      none        1         0   \n",
       "1       4       radio      none        1         0   \n",
       "2       3       radio      none        1         0   \n",
       "3       2       radio      none        1         0   \n",
       "4       5       radio      none        1         0   \n",
       "\n",
       "                       video_name  \n",
       "0  ['vqeghd1_src01_hrc00.v1.avi']  \n",
       "1  ['vqeghd1_src03_hrc01.v1.avi']  \n",
       "2  ['vqeghd1_src06_hrc11.v1.avi']  \n",
       "3  ['vqeghd1_src09_hrc15.v1.avi']  \n",
       "4     ['vqeghd1_src14_hrc00.avi']  "
      ]
     },
     "metadata": {},
     "output_type": "display_data"
    },
    {
     "data": {
      "text/html": [
       "<div>\n",
       "<style scoped>\n",
       "    .dataframe tbody tr th:only-of-type {\n",
       "        vertical-align: middle;\n",
       "    }\n",
       "\n",
       "    .dataframe tbody tr th {\n",
       "        vertical-align: top;\n",
       "    }\n",
       "\n",
       "    .dataframe thead th {\n",
       "        text-align: right;\n",
       "    }\n",
       "</style>\n",
       "<table border=\"1\" class=\"dataframe\">\n",
       "  <thead>\n",
       "    <tr style=\"text-align: right;\">\n",
       "      <th></th>\n",
       "      <th>rating</th>\n",
       "      <th>user_ID</th>\n",
       "      <th>video_name</th>\n",
       "    </tr>\n",
       "  </thead>\n",
       "  <tbody>\n",
       "    <tr>\n",
       "      <th>0</th>\n",
       "      <td>5</td>\n",
       "      <td>1</td>\n",
       "      <td>['vqeghd1_src01_hrc00.v1.avi']</td>\n",
       "    </tr>\n",
       "    <tr>\n",
       "      <th>1</th>\n",
       "      <td>4</td>\n",
       "      <td>1</td>\n",
       "      <td>['vqeghd1_src03_hrc01.v1.avi']</td>\n",
       "    </tr>\n",
       "    <tr>\n",
       "      <th>2</th>\n",
       "      <td>3</td>\n",
       "      <td>1</td>\n",
       "      <td>['vqeghd1_src06_hrc11.v1.avi']</td>\n",
       "    </tr>\n",
       "    <tr>\n",
       "      <th>3</th>\n",
       "      <td>2</td>\n",
       "      <td>1</td>\n",
       "      <td>['vqeghd1_src09_hrc15.v1.avi']</td>\n",
       "    </tr>\n",
       "    <tr>\n",
       "      <th>4</th>\n",
       "      <td>5</td>\n",
       "      <td>1</td>\n",
       "      <td>['vqeghd1_src14_hrc00.avi']</td>\n",
       "    </tr>\n",
       "  </tbody>\n",
       "</table>\n",
       "</div>"
      ],
      "text/plain": [
       "   rating  user_ID                      video_name\n",
       "0       5        1  ['vqeghd1_src01_hrc00.v1.avi']\n",
       "1       4        1  ['vqeghd1_src03_hrc01.v1.avi']\n",
       "2       3        1  ['vqeghd1_src06_hrc11.v1.avi']\n",
       "3       2        1  ['vqeghd1_src09_hrc15.v1.avi']\n",
       "4       5        1     ['vqeghd1_src14_hrc00.avi']"
      ]
     },
     "metadata": {},
     "output_type": "display_data"
    },
    {
     "data": {
      "text/html": [
       "<div>\n",
       "<style scoped>\n",
       "    .dataframe tbody tr th:only-of-type {\n",
       "        vertical-align: middle;\n",
       "    }\n",
       "\n",
       "    .dataframe tbody tr th {\n",
       "        vertical-align: top;\n",
       "    }\n",
       "\n",
       "    .dataframe thead th {\n",
       "        text-align: right;\n",
       "    }\n",
       "</style>\n",
       "<table border=\"1\" class=\"dataframe\">\n",
       "  <thead>\n",
       "    <tr style=\"text-align: right;\">\n",
       "      <th></th>\n",
       "      <th>rating</th>\n",
       "      <th>user_ID</th>\n",
       "      <th>video_name</th>\n",
       "    </tr>\n",
       "  </thead>\n",
       "  <tbody>\n",
       "    <tr>\n",
       "      <th>0</th>\n",
       "      <td>5</td>\n",
       "      <td>1</td>\n",
       "      <td>vqeghd1_src01_hrc00.v1.avi</td>\n",
       "    </tr>\n",
       "    <tr>\n",
       "      <th>1</th>\n",
       "      <td>4</td>\n",
       "      <td>1</td>\n",
       "      <td>vqeghd1_src03_hrc01.v1.avi</td>\n",
       "    </tr>\n",
       "    <tr>\n",
       "      <th>2</th>\n",
       "      <td>3</td>\n",
       "      <td>1</td>\n",
       "      <td>vqeghd1_src06_hrc11.v1.avi</td>\n",
       "    </tr>\n",
       "    <tr>\n",
       "      <th>3</th>\n",
       "      <td>2</td>\n",
       "      <td>1</td>\n",
       "      <td>vqeghd1_src09_hrc15.v1.avi</td>\n",
       "    </tr>\n",
       "    <tr>\n",
       "      <th>4</th>\n",
       "      <td>5</td>\n",
       "      <td>1</td>\n",
       "      <td>vqeghd1_src14_hrc00.avi</td>\n",
       "    </tr>\n",
       "  </tbody>\n",
       "</table>\n",
       "</div>"
      ],
      "text/plain": [
       "   rating  user_ID                  video_name\n",
       "0       5        1  vqeghd1_src01_hrc00.v1.avi\n",
       "1       4        1  vqeghd1_src03_hrc01.v1.avi\n",
       "2       3        1  vqeghd1_src06_hrc11.v1.avi\n",
       "3       2        1  vqeghd1_src09_hrc15.v1.avi\n",
       "4       5        1     vqeghd1_src14_hrc00.avi"
      ]
     },
     "metadata": {},
     "output_type": "display_data"
    },
    {
     "data": {
      "text/html": [
       "<div>\n",
       "<style scoped>\n",
       "    .dataframe tbody tr th:only-of-type {\n",
       "        vertical-align: middle;\n",
       "    }\n",
       "\n",
       "    .dataframe tbody tr th {\n",
       "        vertical-align: top;\n",
       "    }\n",
       "\n",
       "    .dataframe thead th {\n",
       "        text-align: right;\n",
       "    }\n",
       "</style>\n",
       "<table border=\"1\" class=\"dataframe\">\n",
       "  <thead>\n",
       "    <tr style=\"text-align: right;\">\n",
       "      <th></th>\n",
       "      <th>rating</th>\n",
       "      <th>user_ID</th>\n",
       "      <th>video_name</th>\n",
       "      <th>src</th>\n",
       "      <th>hrc</th>\n",
       "    </tr>\n",
       "  </thead>\n",
       "  <tbody>\n",
       "    <tr>\n",
       "      <th>0</th>\n",
       "      <td>5</td>\n",
       "      <td>1</td>\n",
       "      <td>vqeghd1_src01_hrc00.v1.avi</td>\n",
       "      <td>src01</td>\n",
       "      <td>hrc00</td>\n",
       "    </tr>\n",
       "    <tr>\n",
       "      <th>1</th>\n",
       "      <td>4</td>\n",
       "      <td>1</td>\n",
       "      <td>vqeghd1_src03_hrc01.v1.avi</td>\n",
       "      <td>src03</td>\n",
       "      <td>hrc01</td>\n",
       "    </tr>\n",
       "    <tr>\n",
       "      <th>2</th>\n",
       "      <td>3</td>\n",
       "      <td>1</td>\n",
       "      <td>vqeghd1_src06_hrc11.v1.avi</td>\n",
       "      <td>src06</td>\n",
       "      <td>hrc11</td>\n",
       "    </tr>\n",
       "    <tr>\n",
       "      <th>3</th>\n",
       "      <td>2</td>\n",
       "      <td>1</td>\n",
       "      <td>vqeghd1_src09_hrc15.v1.avi</td>\n",
       "      <td>src09</td>\n",
       "      <td>hrc15</td>\n",
       "    </tr>\n",
       "    <tr>\n",
       "      <th>4</th>\n",
       "      <td>5</td>\n",
       "      <td>1</td>\n",
       "      <td>vqeghd1_src14_hrc00.avi</td>\n",
       "      <td>src14</td>\n",
       "      <td>hrc00</td>\n",
       "    </tr>\n",
       "  </tbody>\n",
       "</table>\n",
       "</div>"
      ],
      "text/plain": [
       "   rating  user_ID                  video_name    src    hrc\n",
       "0       5        1  vqeghd1_src01_hrc00.v1.avi  src01  hrc00\n",
       "1       4        1  vqeghd1_src03_hrc01.v1.avi  src03  hrc01\n",
       "2       3        1  vqeghd1_src06_hrc11.v1.avi  src06  hrc11\n",
       "3       2        1  vqeghd1_src09_hrc15.v1.avi  src09  hrc15\n",
       "4       5        1     vqeghd1_src14_hrc00.avi  src14  hrc00"
      ]
     },
     "metadata": {},
     "output_type": "display_data"
    }
   ],
   "source": [
    "%matplotlib inline\n",
    "import glob\n",
    "import os\n",
    "import json\n",
    "from IPython.display import display as d\n",
    "\n",
    "import pandas as pd\n",
    "import numpy as np\n",
    "\n",
    "# open the rating file\n",
    "df = pd.read_csv(\"vqeg_hd.csv\")\n",
    "\n",
    "# check the input\n",
    "d(df.head())\n",
    "\n",
    "# remove columns that we don't need\n",
    "\n",
    "df = df[df.columns.difference([\"rating_type\", \"timestamp\", \"video_ID\"])]\n",
    "# check again\n",
    "d(df.head())\n",
    "\n",
    "# the videoname is now still a list, AvRateNG supports multiple videos as one stimulus, \n",
    "# that's why there is a list required, we remove the list\n",
    "\n",
    "df[\"video_name\"] = df[\"video_name\"].apply(lambda x: eval(x)[0])  # we know that eval is evil\n",
    "# check again\n",
    "d(df.head())\n",
    "\n",
    "# considering that our naming scheme of the presented stimuli has any meaning \n",
    "# we can now just extract, codec, conditions, source videos, etc.\n",
    "\n",
    "df[\"src\"] = df[\"video_name\"].apply(lambda x: x.split(\"_\")[1])\n",
    "df[\"hrc\"] = df[\"video_name\"].apply(lambda x: x.split(\"_\")[2].split(\".\")[0])\n",
    "\n",
    "# check again\n",
    "d(df.head())"
   ]
  },
  {
   "cell_type": "markdown",
   "metadata": {},
   "source": [
    "# Outlier Detection, Calculation of MOS + CI Values\n",
    "For a simple outlier detection, we first calculate the MOS values of each video\n",
    "\n",
    "\n"
   ]
  },
  {
   "cell_type": "code",
   "execution_count": 58,
   "metadata": {
    "scrolled": false
   },
   "outputs": [
    {
     "data": {
      "text/html": [
       "<div>\n",
       "<style scoped>\n",
       "    .dataframe tbody tr th:only-of-type {\n",
       "        vertical-align: middle;\n",
       "    }\n",
       "\n",
       "    .dataframe tbody tr th {\n",
       "        vertical-align: top;\n",
       "    }\n",
       "\n",
       "    .dataframe thead th {\n",
       "        text-align: right;\n",
       "    }\n",
       "</style>\n",
       "<table border=\"1\" class=\"dataframe\">\n",
       "  <thead>\n",
       "    <tr style=\"text-align: right;\">\n",
       "      <th></th>\n",
       "      <th>video_name</th>\n",
       "      <th>mos</th>\n",
       "    </tr>\n",
       "  </thead>\n",
       "  <tbody>\n",
       "    <tr>\n",
       "      <th>0</th>\n",
       "      <td>vqeghd1_src01_hrc00.v1.avi</td>\n",
       "      <td>4.583333</td>\n",
       "    </tr>\n",
       "    <tr>\n",
       "      <th>1</th>\n",
       "      <td>vqeghd1_src01_hrc01.v1.avi</td>\n",
       "      <td>1.916667</td>\n",
       "    </tr>\n",
       "    <tr>\n",
       "      <th>2</th>\n",
       "      <td>vqeghd1_src01_hrc02.v1.avi</td>\n",
       "      <td>1.791667</td>\n",
       "    </tr>\n",
       "    <tr>\n",
       "      <th>3</th>\n",
       "      <td>vqeghd1_src01_hrc03.v1.avi</td>\n",
       "      <td>1.250000</td>\n",
       "    </tr>\n",
       "    <tr>\n",
       "      <th>4</th>\n",
       "      <td>vqeghd1_src01_hrc04.v1.avi</td>\n",
       "      <td>1.083333</td>\n",
       "    </tr>\n",
       "  </tbody>\n",
       "</table>\n",
       "</div>"
      ],
      "text/plain": [
       "                   video_name       mos\n",
       "0  vqeghd1_src01_hrc00.v1.avi  4.583333\n",
       "1  vqeghd1_src01_hrc01.v1.avi  1.916667\n",
       "2  vqeghd1_src01_hrc02.v1.avi  1.791667\n",
       "3  vqeghd1_src01_hrc03.v1.avi  1.250000\n",
       "4  vqeghd1_src01_hrc04.v1.avi  1.083333"
      ]
     },
     "metadata": {},
     "output_type": "display_data"
    },
    {
     "data": {
      "text/html": [
       "<div>\n",
       "<style scoped>\n",
       "    .dataframe tbody tr th:only-of-type {\n",
       "        vertical-align: middle;\n",
       "    }\n",
       "\n",
       "    .dataframe tbody tr th {\n",
       "        vertical-align: top;\n",
       "    }\n",
       "\n",
       "    .dataframe thead th {\n",
       "        text-align: right;\n",
       "    }\n",
       "</style>\n",
       "<table border=\"1\" class=\"dataframe\">\n",
       "  <thead>\n",
       "    <tr style=\"text-align: right;\">\n",
       "      <th></th>\n",
       "      <th>video_name</th>\n",
       "      <th>mos</th>\n",
       "    </tr>\n",
       "  </thead>\n",
       "  <tbody>\n",
       "    <tr>\n",
       "      <th>0</th>\n",
       "      <td>vqeghd1_src01_hrc00.v1.avi</td>\n",
       "      <td>4.583333</td>\n",
       "    </tr>\n",
       "    <tr>\n",
       "      <th>1</th>\n",
       "      <td>vqeghd1_src01_hrc01.v1.avi</td>\n",
       "      <td>1.916667</td>\n",
       "    </tr>\n",
       "    <tr>\n",
       "      <th>2</th>\n",
       "      <td>vqeghd1_src01_hrc02.v1.avi</td>\n",
       "      <td>1.791667</td>\n",
       "    </tr>\n",
       "    <tr>\n",
       "      <th>3</th>\n",
       "      <td>vqeghd1_src01_hrc03.v1.avi</td>\n",
       "      <td>1.250000</td>\n",
       "    </tr>\n",
       "    <tr>\n",
       "      <th>4</th>\n",
       "      <td>vqeghd1_src01_hrc04.v1.avi</td>\n",
       "      <td>1.083333</td>\n",
       "    </tr>\n",
       "  </tbody>\n",
       "</table>\n",
       "</div>"
      ],
      "text/plain": [
       "                   video_name       mos\n",
       "0  vqeghd1_src01_hrc00.v1.avi  4.583333\n",
       "1  vqeghd1_src01_hrc01.v1.avi  1.916667\n",
       "2  vqeghd1_src01_hrc02.v1.avi  1.791667\n",
       "3  vqeghd1_src01_hrc03.v1.avi  1.250000\n",
       "4  vqeghd1_src01_hrc04.v1.avi  1.083333"
      ]
     },
     "metadata": {},
     "output_type": "display_data"
    },
    {
     "name": "stderr",
     "output_type": "stream",
     "text": [
      "/home/stg7/.local/lib/python3.6/site-packages/scipy/stats/_distn_infrastructure.py:1910: RuntimeWarning: invalid value encountered in multiply\n",
      "  lower_bound = self.a * scale + loc\n",
      "/home/stg7/.local/lib/python3.6/site-packages/scipy/stats/_distn_infrastructure.py:1911: RuntimeWarning: invalid value encountered in multiply\n",
      "  upper_bound = self.b * scale + loc\n"
     ]
    },
    {
     "data": {
      "text/html": [
       "<div>\n",
       "<style scoped>\n",
       "    .dataframe tbody tr th:only-of-type {\n",
       "        vertical-align: middle;\n",
       "    }\n",
       "\n",
       "    .dataframe tbody tr th {\n",
       "        vertical-align: top;\n",
       "    }\n",
       "\n",
       "    .dataframe thead th {\n",
       "        text-align: right;\n",
       "    }\n",
       "</style>\n",
       "<table border=\"1\" class=\"dataframe\">\n",
       "  <thead>\n",
       "    <tr style=\"text-align: right;\">\n",
       "      <th></th>\n",
       "      <th>video_name</th>\n",
       "      <th>ci</th>\n",
       "    </tr>\n",
       "  </thead>\n",
       "  <tbody>\n",
       "    <tr>\n",
       "      <th>0</th>\n",
       "      <td>vqeghd1_src01_hrc00.v1.avi</td>\n",
       "      <td>0.425312</td>\n",
       "    </tr>\n",
       "    <tr>\n",
       "      <th>1</th>\n",
       "      <td>vqeghd1_src01_hrc01.v1.avi</td>\n",
       "      <td>0.654957</td>\n",
       "    </tr>\n",
       "    <tr>\n",
       "      <th>2</th>\n",
       "      <td>vqeghd1_src01_hrc02.v1.avi</td>\n",
       "      <td>0.608954</td>\n",
       "    </tr>\n",
       "    <tr>\n",
       "      <th>3</th>\n",
       "      <td>vqeghd1_src01_hrc03.v1.avi</td>\n",
       "      <td>0.448958</td>\n",
       "    </tr>\n",
       "    <tr>\n",
       "      <th>4</th>\n",
       "      <td>vqeghd1_src01_hrc04.v1.avi</td>\n",
       "      <td>0.344776</td>\n",
       "    </tr>\n",
       "  </tbody>\n",
       "</table>\n",
       "</div>"
      ],
      "text/plain": [
       "                   video_name        ci\n",
       "0  vqeghd1_src01_hrc00.v1.avi  0.425312\n",
       "1  vqeghd1_src01_hrc01.v1.avi  0.654957\n",
       "2  vqeghd1_src01_hrc02.v1.avi  0.608954\n",
       "3  vqeghd1_src01_hrc03.v1.avi  0.448958\n",
       "4  vqeghd1_src01_hrc04.v1.avi  0.344776"
      ]
     },
     "metadata": {},
     "output_type": "display_data"
    },
    {
     "data": {
      "text/html": [
       "<div>\n",
       "<style scoped>\n",
       "    .dataframe tbody tr th:only-of-type {\n",
       "        vertical-align: middle;\n",
       "    }\n",
       "\n",
       "    .dataframe tbody tr th {\n",
       "        vertical-align: top;\n",
       "    }\n",
       "\n",
       "    .dataframe thead th {\n",
       "        text-align: right;\n",
       "    }\n",
       "</style>\n",
       "<table border=\"1\" class=\"dataframe\">\n",
       "  <thead>\n",
       "    <tr style=\"text-align: right;\">\n",
       "      <th></th>\n",
       "      <th>video_name</th>\n",
       "      <th>mos</th>\n",
       "      <th>ci</th>\n",
       "    </tr>\n",
       "  </thead>\n",
       "  <tbody>\n",
       "    <tr>\n",
       "      <th>0</th>\n",
       "      <td>vqeghd1_src01_hrc00.v1.avi</td>\n",
       "      <td>4.583333</td>\n",
       "      <td>0.425312</td>\n",
       "    </tr>\n",
       "    <tr>\n",
       "      <th>1</th>\n",
       "      <td>vqeghd1_src01_hrc01.v1.avi</td>\n",
       "      <td>1.916667</td>\n",
       "      <td>0.654957</td>\n",
       "    </tr>\n",
       "    <tr>\n",
       "      <th>2</th>\n",
       "      <td>vqeghd1_src01_hrc02.v1.avi</td>\n",
       "      <td>1.791667</td>\n",
       "      <td>0.608954</td>\n",
       "    </tr>\n",
       "    <tr>\n",
       "      <th>3</th>\n",
       "      <td>vqeghd1_src01_hrc03.v1.avi</td>\n",
       "      <td>1.250000</td>\n",
       "      <td>0.448958</td>\n",
       "    </tr>\n",
       "    <tr>\n",
       "      <th>4</th>\n",
       "      <td>vqeghd1_src01_hrc04.v1.avi</td>\n",
       "      <td>1.083333</td>\n",
       "      <td>0.344776</td>\n",
       "    </tr>\n",
       "  </tbody>\n",
       "</table>\n",
       "</div>"
      ],
      "text/plain": [
       "                   video_name       mos        ci\n",
       "0  vqeghd1_src01_hrc00.v1.avi  4.583333  0.425312\n",
       "1  vqeghd1_src01_hrc01.v1.avi  1.916667  0.654957\n",
       "2  vqeghd1_src01_hrc02.v1.avi  1.791667  0.608954\n",
       "3  vqeghd1_src01_hrc03.v1.avi  1.250000  0.448958\n",
       "4  vqeghd1_src01_hrc04.v1.avi  1.083333  0.344776"
      ]
     },
     "metadata": {},
     "output_type": "display_data"
    }
   ],
   "source": [
    "\n",
    "mos_per_videoname = df.groupby(by=\"video_name\").mean().reset_index()[[\"video_name\", \"rating\"]]\n",
    "mos_per_videoname = mos_per_videoname.rename(columns={\"rating\": \"mos\"})\n",
    "d(mos_per_videoname.head())\n",
    "\n",
    "d_wo = pd.DataFrame()\n",
    "# simple outlier \"detection\", better use the ITU-Rec XYZ\n",
    "for userid, group in df.groupby(by=\"user_ID\"):\n",
    "    comp = pd.merge(group, mos_per_videoname, left_on=\"video_name\", right_on=\"video_name\")\n",
    "    # calc correlation\n",
    "    correlation_user_to_mos = comp[[\"rating\", \"mos\"]].corr(method=\"pearson\")[\"mos\"][0]\n",
    "    if correlation_user_to_mos < 0.8:\n",
    "        print(f\"outlier user {userid}\")\n",
    "    else:\n",
    "        d_wo = d_wo.append(group, ignore_index=True)\n",
    "\n",
    "    \n",
    "df = d_wo\n",
    "# calculate final mos values\n",
    "mos_per_videoname = df.groupby(by=\"video_name\").mean().reset_index()[[\"video_name\", \"rating\"]]\n",
    "mos_per_videoname = mos_per_videoname.rename(columns={\"rating\": \"mos\"})\n",
    "d(mos_per_videoname.head())\n",
    "\n",
    "# calculate ci values\n",
    "import scipy.stats as st\n",
    "\n",
    "def confidence(x):\n",
    "    x = x[\"rating\"]\n",
    "    y = st.t.interval(0.95, len(x) - 1, loc=np.mean(x), scale=st.sem(x))\n",
    "    return  y[1] - y[0]\n",
    "\n",
    "\n",
    "ci = d_wo[[\"video_name\", \"rating\"]].groupby(by=\"video_name\").apply(confidence).reset_index()\n",
    "ci = ci.rename(columns={0: \"ci\"})\n",
    "\n",
    "d(ci.head())\n",
    "\n",
    "mos_ci_per_videoname = pd.merge(mos_per_videoname, ci, left_on=\"video_name\", right_on=\"video_name\")\n",
    "\n",
    "d(mos_ci_per_videoname.head())"
   ]
  },
  {
   "cell_type": "code",
   "execution_count": 59,
   "metadata": {},
   "outputs": [
    {
     "data": {
      "text/plain": [
       "Text(0.5,1,'estimated a: -0.188')"
      ]
     },
     "execution_count": 59,
     "metadata": {},
     "output_type": "execute_result"
    },
    {
     "data": {
      "image/png": "[encoded data removed]",
      "text/plain": [
       "<Figure size 432x288 with 1 Axes>"
      ]
     },
     "metadata": {
      "needs_background": "light"
     },
     "output_type": "display_data"
    }
   ],
   "source": [
    "import seaborn as sns\n",
    "\n",
    "mos_ci_per_videoname[\"src\"] = mos_ci_per_videoname[\"video_name\"].apply(lambda x: x.split(\"_\")[1])\n",
    "mos_ci_per_videoname[\"hrc\"] = mos_ci_per_videoname[\"video_name\"].apply(lambda x: x.split(\"_\")[2].split(\".\")[0])\n",
    "\n",
    "# draw a SOS plot\n",
    "# read: http://materials.dagstuhl.de/files/15/15022/15022.TobiasHo%C3%9Ffeld1.Preprint.pdf\n",
    "# for a more detailed description of SOS plots\n",
    "\n",
    "ax = sns.scatterplot(x=\"mos\", y=\"ci\", data=mos_ci_per_videoname)\n",
    "\n",
    "#, with the y=(x-1)*(x-5)* a interpolated function \n",
    "\n",
    "x_data = mos_ci_per_videoname[\"mos\"].values\n",
    "y_data = mos_ci_per_videoname[\"ci\"].replace(np.NaN, 0).values\n",
    "\n",
    "from scipy.optimize import curve_fit\n",
    "\n",
    "def fitting_function(x, a):\n",
    "    return (x - 1) * (x - 5) * a\n",
    "\n",
    "popt, pcov = curve_fit(fitting_function, x_data, y_data) \n",
    "\n",
    "\n",
    "x = np.linspace(1, 5, 100)\n",
    "ax.plot(x, fitting_function(x, *popt), 'g--')\n",
    "ax.set_title(f\"estimated a: {popt[0].round(3)}\")"
   ]
  },
  {
   "cell_type": "code",
   "execution_count": 60,
   "metadata": {},
   "outputs": [
    {
     "data": {
      "text/plain": [
       "<matplotlib.axes._subplots.AxesSubplot at 0x7f9034833ac8>"
      ]
     },
     "execution_count": 60,
     "metadata": {},
     "output_type": "execute_result"
    },
    {
     "data": {
      "image/png": "[encoded data removed]",
      "text/plain": [
       "<Figure size 432x288 with 1 Axes>"
      ]
     },
     "metadata": {
      "needs_background": "light"
     },
     "output_type": "display_data"
    }
   ],
   "source": [
    "# a boxplot per SRC\n",
    "sns.boxplot(x=\"mos\", y=\"src\", data=mos_ci_per_videoname)"
   ]
  },
  {
   "cell_type": "code",
   "execution_count": 61,
   "metadata": {},
   "outputs": [
    {
     "data": {
      "text/plain": [
       "<matplotlib.axes._subplots.AxesSubplot at 0x7f903462d4a8>"
      ]
     },
     "execution_count": 61,
     "metadata": {},
     "output_type": "execute_result"
    },
    {
     "data": {
      "image/png": "[encoded data removed]",
      "text/plain": [
       "<Figure size 432x288 with 1 Axes>"
      ]
     },
     "metadata": {
      "needs_background": "light"
     },
     "output_type": "display_data"
    }
   ],
   "source": [
    "# a boxplot per HRC\n",
    "sns.boxplot(x=\"mos\", y=\"hrc\", data=mos_ci_per_videoname)"
   ]
  },
  {
   "cell_type": "code",
   "execution_count": 56,
   "metadata": {},
   "outputs": [
    {
     "name": "stderr",
     "output_type": "stream",
     "text": [
      "/home/stg7/.local/lib/python3.6/site-packages/scipy/stats/stats.py:1713: FutureWarning: Using a non-tuple sequence for multidimensional indexing is deprecated; use `arr[tuple(seq)]` instead of `arr[seq]`. In the future this will be interpreted as an array index, `arr[np.array(seq)]`, which will result either in an error or a different result.\n",
      "  return np.add.reduce(sorted[indexer] * weights, axis=axis) / sumval\n"
     ]
    },
    {
     "data": {
      "text/plain": [
       "<matplotlib.axes._subplots.AxesSubplot at 0x7f9034f128d0>"
      ]
     },
     "execution_count": 56,
     "metadata": {},
     "output_type": "execute_result"
    },
    {
     "data": {
      "image/png": "[encoded data removed]",
      "text/plain": [
       "<Figure size 432x288 with 1 Axes>"
      ]
     },
     "metadata": {
      "needs_background": "light"
     },
     "output_type": "display_data"
    }
   ],
   "source": [
    "# mos distribution\n",
    "sns.distplot(mos_ci_per_videoname[\"mos\"])"
   ]
  }
 ],
 "metadata": {
  "kernelspec": {
   "display_name": "Python 3",
   "language": "python",
   "name": "python3"
  },
  "language_info": {
   "codemirror_mode": {
    "name": "ipython",
    "version": 3
   },
   "file_extension": ".py",
   "mimetype": "text/x-python",
   "name": "python",
   "nbconvert_exporter": "python",
   "pygments_lexer": "ipython3",
   "version": "3.6.5"
  }
 },
 "nbformat": 4,
 "nbformat_minor": 2
}
